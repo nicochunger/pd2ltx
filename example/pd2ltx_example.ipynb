{
 "cells": [
  {
   "attachments": {},
   "cell_type": "markdown",
   "metadata": {},
   "source": [
    "# Imports"
   ]
  },
  {
   "cell_type": "code",
   "execution_count": 1,
   "metadata": {},
   "outputs": [],
   "source": [
    "from pd2ltx import pd2ltx"
   ]
  },
  {
   "cell_type": "code",
   "execution_count": 2,
   "metadata": {},
   "outputs": [],
   "source": [
    "import pandas as pd\n",
    "import numpy as np\n",
    "import scipy.stats as st\n",
    "import sys\n",
    "# sys.path.append(\"..\")\n",
    "# from pd2ltx import pd2ltx"
   ]
  },
  {
   "attachments": {},
   "cell_type": "markdown",
   "metadata": {},
   "source": [
    "# Make example tables"
   ]
  },
  {
   "cell_type": "code",
   "execution_count": 3,
   "metadata": {},
   "outputs": [],
   "source": [
    "df_size = 5"
   ]
  },
  {
   "attachments": {},
   "cell_type": "markdown",
   "metadata": {},
   "source": [
    "## Symmetrical errors"
   ]
  },
  {
   "cell_type": "code",
   "execution_count": 4,
   "metadata": {},
   "outputs": [
    {
     "data": {
      "text/html": [
       "<div>\n",
       "<style scoped>\n",
       "    .dataframe tbody tr th:only-of-type {\n",
       "        vertical-align: middle;\n",
       "    }\n",
       "\n",
       "    .dataframe tbody tr th {\n",
       "        vertical-align: top;\n",
       "    }\n",
       "\n",
       "    .dataframe thead th {\n",
       "        text-align: right;\n",
       "    }\n",
       "</style>\n",
       "<table border=\"1\" class=\"dataframe\">\n",
       "  <thead>\n",
       "    <tr style=\"text-align: right;\">\n",
       "      <th></th>\n",
       "      <th>target</th>\n",
       "      <th>val1</th>\n",
       "      <th>val1_err</th>\n",
       "      <th>val2</th>\n",
       "      <th>val2_err</th>\n",
       "    </tr>\n",
       "  </thead>\n",
       "  <tbody>\n",
       "    <tr>\n",
       "      <th>0</th>\n",
       "      <td>Star 0</td>\n",
       "      <td>9.018966</td>\n",
       "      <td>0.039371</td>\n",
       "      <td>2159.038993</td>\n",
       "      <td>0.561578</td>\n",
       "    </tr>\n",
       "    <tr>\n",
       "      <th>1</th>\n",
       "      <td>Star 1</td>\n",
       "      <td>9.521613</td>\n",
       "      <td>0.000129</td>\n",
       "      <td>14.543534</td>\n",
       "      <td>0.450034</td>\n",
       "    </tr>\n",
       "    <tr>\n",
       "      <th>2</th>\n",
       "      <td>Star 2</td>\n",
       "      <td>0.016463</td>\n",
       "      <td>0.003202</td>\n",
       "      <td>1814.200118</td>\n",
       "      <td>4.183590</td>\n",
       "    </tr>\n",
       "    <tr>\n",
       "      <th>3</th>\n",
       "      <td>Star 3</td>\n",
       "      <td>14.060761</td>\n",
       "      <td>0.000910</td>\n",
       "      <td>51.725578</td>\n",
       "      <td>9.824211</td>\n",
       "    </tr>\n",
       "    <tr>\n",
       "      <th>4</th>\n",
       "      <td>Star 4</td>\n",
       "      <td>3.314945</td>\n",
       "      <td>0.000714</td>\n",
       "      <td>55.825360</td>\n",
       "      <td>0.098026</td>\n",
       "    </tr>\n",
       "  </tbody>\n",
       "</table>\n",
       "</div>"
      ],
      "text/plain": [
       "   target       val1  val1_err         val2  val2_err\n",
       "0  Star 0   9.018966  0.039371  2159.038993  0.561578\n",
       "1  Star 1   9.521613  0.000129    14.543534  0.450034\n",
       "2  Star 2   0.016463  0.003202  1814.200118  4.183590\n",
       "3  Star 3  14.060761  0.000910    51.725578  9.824211\n",
       "4  Star 4   3.314945  0.000714    55.825360  0.098026"
      ]
     },
     "execution_count": 4,
     "metadata": {},
     "output_type": "execute_result"
    }
   ],
   "source": [
    "df_sym = (pd.DataFrame()\n",
    "                .assign(target = [f'Star {i}' for i in range(df_size)])\n",
    "                .assign(val1 = st.loguniform.rvs(0.01, 100, size=df_size))\n",
    "                .assign(val1_err = st.loguniform.rvs(0.0001, 1, size=df_size))\n",
    "                .assign(val2 = st.loguniform.rvs(1, 10000, size=df_size))\n",
    "                .assign(val2_err = st.loguniform.rvs(0.01, 100, size=df_size))\n",
    ")\n",
    "df_sym"
   ]
  },
  {
   "cell_type": "code",
   "execution_count": 5,
   "metadata": {},
   "outputs": [
    {
     "name": "stdout",
     "output_type": "stream",
     "text": [
      "\\begin{tabular}{lcc}\n",
      "{target} & {val1} & {val2} \\\\\n",
      "Star 0 & $9.019\\pm0.039$ & $2159.04\\pm0.56$ \\\\\n",
      "Star 1 & $9.52161\\pm1.3e-4$ & $14.54\\pm0.45$ \\\\\n",
      "Star 2 & $0.0165\\pm0.0032$ & $1814.2\\pm4.2$ \\\\\n",
      "Star 3 & $14.06076\\pm9.1e-4$ & $51.7\\pm9.8$ \\\\\n",
      "Star 4 & $3.31495\\pm7.1e-4$ & $55.825\\pm0.098$ \\\\\n",
      "\\end{tabular}\n",
      "\n"
     ]
    }
   ],
   "source": [
    "table1 = pd2ltx(df_sym, error='symmetrical', error_suffix='_err', error_significant_figures=2)\n",
    "\n",
    "print(table1)"
   ]
  },
  {
   "attachments": {},
   "cell_type": "markdown",
   "metadata": {},
   "source": [
    "## Asymmetrical errors"
   ]
  },
  {
   "cell_type": "code",
   "execution_count": 6,
   "metadata": {},
   "outputs": [
    {
     "data": {
      "text/html": [
       "<div>\n",
       "<style scoped>\n",
       "    .dataframe tbody tr th:only-of-type {\n",
       "        vertical-align: middle;\n",
       "    }\n",
       "\n",
       "    .dataframe tbody tr th {\n",
       "        vertical-align: top;\n",
       "    }\n",
       "\n",
       "    .dataframe thead th {\n",
       "        text-align: right;\n",
       "    }\n",
       "</style>\n",
       "<table border=\"1\" class=\"dataframe\">\n",
       "  <thead>\n",
       "    <tr style=\"text-align: right;\">\n",
       "      <th></th>\n",
       "      <th>target</th>\n",
       "      <th>val1</th>\n",
       "      <th>val1_errup</th>\n",
       "      <th>val1_errlo</th>\n",
       "      <th>val2</th>\n",
       "      <th>val2_errlo</th>\n",
       "      <th>val2_errup</th>\n",
       "    </tr>\n",
       "  </thead>\n",
       "  <tbody>\n",
       "    <tr>\n",
       "      <th>0</th>\n",
       "      <td>Star 0</td>\n",
       "      <td>0.064363</td>\n",
       "      <td>0.014716</td>\n",
       "      <td>0.022316</td>\n",
       "      <td>4885.774905</td>\n",
       "      <td>0.194013</td>\n",
       "      <td>0.409257</td>\n",
       "    </tr>\n",
       "    <tr>\n",
       "      <th>1</th>\n",
       "      <td>Star 1</td>\n",
       "      <td>42.361207</td>\n",
       "      <td>0.087760</td>\n",
       "      <td>0.043022</td>\n",
       "      <td>5.316670</td>\n",
       "      <td>0.043674</td>\n",
       "      <td>0.018051</td>\n",
       "    </tr>\n",
       "    <tr>\n",
       "      <th>2</th>\n",
       "      <td>Star 2</td>\n",
       "      <td>0.026675</td>\n",
       "      <td>0.056778</td>\n",
       "      <td>0.010042</td>\n",
       "      <td>2121.595746</td>\n",
       "      <td>0.198962</td>\n",
       "      <td>0.409395</td>\n",
       "    </tr>\n",
       "    <tr>\n",
       "      <th>3</th>\n",
       "      <td>Star 3</td>\n",
       "      <td>0.012685</td>\n",
       "      <td>0.027266</td>\n",
       "      <td>0.002909</td>\n",
       "      <td>52.779000</td>\n",
       "      <td>0.020877</td>\n",
       "      <td>0.931181</td>\n",
       "    </tr>\n",
       "    <tr>\n",
       "      <th>4</th>\n",
       "      <td>Star 4</td>\n",
       "      <td>0.504112</td>\n",
       "      <td>0.032062</td>\n",
       "      <td>0.024001</td>\n",
       "      <td>28.040880</td>\n",
       "      <td>0.074430</td>\n",
       "      <td>0.106749</td>\n",
       "    </tr>\n",
       "  </tbody>\n",
       "</table>\n",
       "</div>"
      ],
      "text/plain": [
       "   target       val1  val1_errup  val1_errlo         val2  val2_errlo   \n",
       "0  Star 0   0.064363    0.014716    0.022316  4885.774905    0.194013  \\\n",
       "1  Star 1  42.361207    0.087760    0.043022     5.316670    0.043674   \n",
       "2  Star 2   0.026675    0.056778    0.010042  2121.595746    0.198962   \n",
       "3  Star 3   0.012685    0.027266    0.002909    52.779000    0.020877   \n",
       "4  Star 4   0.504112    0.032062    0.024001    28.040880    0.074430   \n",
       "\n",
       "   val2_errup  \n",
       "0    0.409257  \n",
       "1    0.018051  \n",
       "2    0.409395  \n",
       "3    0.931181  \n",
       "4    0.106749  "
      ]
     },
     "execution_count": 6,
     "metadata": {},
     "output_type": "execute_result"
    }
   ],
   "source": [
    "df_asym = (pd.DataFrame()\n",
    "                .assign(target = [f'Star {i}' for i in range(df_size)])\n",
    "                .assign(val1 = st.loguniform.rvs(0.01, 100, size=df_size))\n",
    "                .assign(val1_errup = st.loguniform.rvs(0.001, 0.1, size=df_size))\n",
    "                .assign(val1_errlo = st.loguniform.rvs(0.001, 0.1, size=df_size))\n",
    "                .assign(val2 = st.loguniform.rvs(1, 10000, size=df_size))\n",
    "                .assign(val2_errlo = st.loguniform.rvs(0.01, 1, size=df_size))\n",
    "                .assign(val2_errup = st.loguniform.rvs(0.01, 1, size=df_size))\n",
    ")\n",
    "df_asym"
   ]
  },
  {
   "cell_type": "code",
   "execution_count": 7,
   "metadata": {},
   "outputs": [
    {
     "name": "stdout",
     "output_type": "stream",
     "text": [
      "\\begin{tabular}{lcc}\n",
      "{target} & {val1} & {val2} \\\\\n",
      "Star 0 & $0.064^{+0.015}_{-0.022}$ & $4885.77^{+0.41}_{-0.19}$ \\\\\n",
      "Star 1 & $42.361^{+0.088}_{-0.043}$ & $5.317^{+0.018}_{-0.044}$ \\\\\n",
      "Star 2 & $0.027^{+0.057}_{-0.010}$ & $2121.60^{+0.41}_{-0.20}$ \\\\\n",
      "Star 3 & $0.0127^{+0.0273}_{-0.0029}$ & $52.779^{+0.931}_{-0.021}$ \\\\\n",
      "Star 4 & $0.504^{+0.032}_{-0.024}$ & $28.041^{+0.107}_{-0.074}$ \\\\\n",
      "\\end{tabular}\n",
      "\n"
     ]
    }
   ],
   "source": [
    "table2 = pd2ltx(df_asym, \n",
    "                error='asymmetrical', \n",
    "                error_suffix=['_errup', '_errlo'], \n",
    "                error_significant_figures=2)\n",
    "print(table2)"
   ]
  },
  {
   "attachments": {},
   "cell_type": "markdown",
   "metadata": {},
   "source": [
    "### It also works even if the error columns are in different order"
   ]
  },
  {
   "cell_type": "code",
   "execution_count": 8,
   "metadata": {},
   "outputs": [
    {
     "data": {
      "text/html": [
       "<div>\n",
       "<style scoped>\n",
       "    .dataframe tbody tr th:only-of-type {\n",
       "        vertical-align: middle;\n",
       "    }\n",
       "\n",
       "    .dataframe tbody tr th {\n",
       "        vertical-align: top;\n",
       "    }\n",
       "\n",
       "    .dataframe thead th {\n",
       "        text-align: right;\n",
       "    }\n",
       "</style>\n",
       "<table border=\"1\" class=\"dataframe\">\n",
       "  <thead>\n",
       "    <tr style=\"text-align: right;\">\n",
       "      <th></th>\n",
       "      <th>val2_errlo</th>\n",
       "      <th>target</th>\n",
       "      <th>val1_errlo</th>\n",
       "      <th>val1</th>\n",
       "      <th>val1_errup</th>\n",
       "      <th>val2_errup</th>\n",
       "      <th>val2</th>\n",
       "    </tr>\n",
       "  </thead>\n",
       "  <tbody>\n",
       "    <tr>\n",
       "      <th>0</th>\n",
       "      <td>0.012431</td>\n",
       "      <td>Star 0</td>\n",
       "      <td>0.029023</td>\n",
       "      <td>4.797181</td>\n",
       "      <td>0.018593</td>\n",
       "      <td>0.599638</td>\n",
       "      <td>7.990352</td>\n",
       "    </tr>\n",
       "    <tr>\n",
       "      <th>1</th>\n",
       "      <td>0.148020</td>\n",
       "      <td>Star 1</td>\n",
       "      <td>0.001025</td>\n",
       "      <td>0.508785</td>\n",
       "      <td>0.096426</td>\n",
       "      <td>0.075715</td>\n",
       "      <td>6.047541</td>\n",
       "    </tr>\n",
       "    <tr>\n",
       "      <th>2</th>\n",
       "      <td>0.091983</td>\n",
       "      <td>Star 2</td>\n",
       "      <td>0.086117</td>\n",
       "      <td>3.079673</td>\n",
       "      <td>0.001256</td>\n",
       "      <td>0.358241</td>\n",
       "      <td>9.075825</td>\n",
       "    </tr>\n",
       "    <tr>\n",
       "      <th>3</th>\n",
       "      <td>0.669476</td>\n",
       "      <td>Star 3</td>\n",
       "      <td>0.001494</td>\n",
       "      <td>0.448934</td>\n",
       "      <td>0.001308</td>\n",
       "      <td>0.011259</td>\n",
       "      <td>239.090775</td>\n",
       "    </tr>\n",
       "    <tr>\n",
       "      <th>4</th>\n",
       "      <td>0.039792</td>\n",
       "      <td>Star 4</td>\n",
       "      <td>0.001000</td>\n",
       "      <td>11.292218</td>\n",
       "      <td>0.004272</td>\n",
       "      <td>0.016198</td>\n",
       "      <td>1.313757</td>\n",
       "    </tr>\n",
       "  </tbody>\n",
       "</table>\n",
       "</div>"
      ],
      "text/plain": [
       "   val2_errlo  target  val1_errlo       val1  val1_errup  val2_errup   \n",
       "0    0.012431  Star 0    0.029023   4.797181    0.018593    0.599638  \\\n",
       "1    0.148020  Star 1    0.001025   0.508785    0.096426    0.075715   \n",
       "2    0.091983  Star 2    0.086117   3.079673    0.001256    0.358241   \n",
       "3    0.669476  Star 3    0.001494   0.448934    0.001308    0.011259   \n",
       "4    0.039792  Star 4    0.001000  11.292218    0.004272    0.016198   \n",
       "\n",
       "         val2  \n",
       "0    7.990352  \n",
       "1    6.047541  \n",
       "2    9.075825  \n",
       "3  239.090775  \n",
       "4    1.313757  "
      ]
     },
     "execution_count": 8,
     "metadata": {},
     "output_type": "execute_result"
    }
   ],
   "source": [
    "df_asym2 = (pd.DataFrame()\n",
    "                .assign(val2_errlo = st.loguniform.rvs(0.01, 1, size=df_size))\n",
    "                .assign(target = [f'Star {i}' for i in range(df_size)])\n",
    "                .assign(val1_errlo = st.loguniform.rvs(0.001, 0.1, size=df_size))\n",
    "                .assign(val1 = st.loguniform.rvs(0.01, 100, size=df_size))\n",
    "                .assign(val1_errup = st.loguniform.rvs(0.001, 0.1, size=df_size))\n",
    "                .assign(val2_errup = st.loguniform.rvs(0.01, 1, size=df_size))\n",
    "                .assign(val2 = st.loguniform.rvs(1, 10000, size=df_size))\n",
    ")\n",
    "df_asym2"
   ]
  },
  {
   "cell_type": "code",
   "execution_count": 9,
   "metadata": {},
   "outputs": [
    {
     "name": "stdout",
     "output_type": "stream",
     "text": [
      "\\begin{table}\n",
      "\\caption{My Table}\n",
      "\\begin{tabular}{lcc}\n",
      "{target} & {val1} & {val2} \\\\\n",
      "Star 0 & $4.797^{+0.019}_{-0.029}$ & $7.990^{+0.600}_{-0.012}$ \\\\\n",
      "Star 1 & $0.5088^{+0.0964}_{-0.0010}$ & $6.048^{+0.076}_{-0.148}$ \\\\\n",
      "Star 2 & $3.0797^{+0.0013}_{-0.0861}$ & $9.076^{+0.358}_{-0.092}$ \\\\\n",
      "Star 3 & $0.4489^{+0.0013}_{-0.0015}$ & $239.091^{+0.011}_{-0.669}$ \\\\\n",
      "Star 4 & $11.2922^{+0.0043}_{-0.0010}$ & $1.314^{+0.016}_{-0.040}$ \\\\\n",
      "\\end{tabular}\n",
      "\\end{table}\n",
      "\n"
     ]
    }
   ],
   "source": [
    "table3 = pd2ltx(df_asym2, \n",
    "                error='asymmetrical', \n",
    "                error_suffix=['_errup', '_errlo'], \n",
    "                error_significant_figures=2, \n",
    "                caption='My Table' # Example of adding a caption\n",
    "                )\n",
    "\n",
    "print(table3)"
   ]
  },
  {
   "cell_type": "code",
   "execution_count": null,
   "metadata": {},
   "outputs": [],
   "source": []
  }
 ],
 "metadata": {
  "kernelspec": {
   "display_name": "Python 3.8.8 ('base')",
   "language": "python",
   "name": "python3"
  },
  "language_info": {
   "codemirror_mode": {
    "name": "ipython",
    "version": 3
   },
   "file_extension": ".py",
   "mimetype": "text/x-python",
   "name": "python",
   "nbconvert_exporter": "python",
   "pygments_lexer": "ipython3",
   "version": "3.11.3"
  },
  "orig_nbformat": 4,
  "vscode": {
   "interpreter": {
    "hash": "9cb3414fc703dd8cc982b544269b5fbfe36cb584fb7b6ad5d526a12d9be0b908"
   }
  }
 },
 "nbformat": 4,
 "nbformat_minor": 2
}
