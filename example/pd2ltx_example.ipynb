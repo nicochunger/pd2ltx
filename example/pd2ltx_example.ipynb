{
 "cells": [
  {
   "attachments": {},
   "cell_type": "markdown",
   "metadata": {},
   "source": [
    "# Imports"
   ]
  },
  {
   "cell_type": "code",
   "execution_count": 1,
   "metadata": {},
   "outputs": [],
   "source": [
    "import pandas as pd\n",
    "import numpy as np\n",
    "import scipy.stats as st\n",
    "import sys\n",
    "sys.path.append(\"..\")\n",
    "from pd2ltx import pd2ltx"
   ]
  },
  {
   "attachments": {},
   "cell_type": "markdown",
   "metadata": {},
   "source": [
    "# Make example tables"
   ]
  },
  {
   "cell_type": "code",
   "execution_count": 2,
   "metadata": {},
   "outputs": [],
   "source": [
    "df_size = 5"
   ]
  },
  {
   "attachments": {},
   "cell_type": "markdown",
   "metadata": {},
   "source": [
    "## Symmetrical errors"
   ]
  },
  {
   "cell_type": "code",
   "execution_count": 3,
   "metadata": {},
   "outputs": [
    {
     "data": {
      "text/html": [
       "<div>\n",
       "<style scoped>\n",
       "    .dataframe tbody tr th:only-of-type {\n",
       "        vertical-align: middle;\n",
       "    }\n",
       "\n",
       "    .dataframe tbody tr th {\n",
       "        vertical-align: top;\n",
       "    }\n",
       "\n",
       "    .dataframe thead th {\n",
       "        text-align: right;\n",
       "    }\n",
       "</style>\n",
       "<table border=\"1\" class=\"dataframe\">\n",
       "  <thead>\n",
       "    <tr style=\"text-align: right;\">\n",
       "      <th></th>\n",
       "      <th>target</th>\n",
       "      <th>val1</th>\n",
       "      <th>val1_err</th>\n",
       "      <th>val2</th>\n",
       "      <th>val2_err</th>\n",
       "    </tr>\n",
       "  </thead>\n",
       "  <tbody>\n",
       "    <tr>\n",
       "      <th>0</th>\n",
       "      <td>Star 0</td>\n",
       "      <td>0.110329</td>\n",
       "      <td>0.016765</td>\n",
       "      <td>12.363429</td>\n",
       "      <td>0.020624</td>\n",
       "    </tr>\n",
       "    <tr>\n",
       "      <th>1</th>\n",
       "      <td>Star 1</td>\n",
       "      <td>0.268676</td>\n",
       "      <td>0.001107</td>\n",
       "      <td>495.325137</td>\n",
       "      <td>0.232137</td>\n",
       "    </tr>\n",
       "    <tr>\n",
       "      <th>2</th>\n",
       "      <td>Star 2</td>\n",
       "      <td>0.187300</td>\n",
       "      <td>0.013023</td>\n",
       "      <td>5021.789709</td>\n",
       "      <td>0.130045</td>\n",
       "    </tr>\n",
       "    <tr>\n",
       "      <th>3</th>\n",
       "      <td>Star 3</td>\n",
       "      <td>0.230330</td>\n",
       "      <td>0.000140</td>\n",
       "      <td>252.680435</td>\n",
       "      <td>0.109963</td>\n",
       "    </tr>\n",
       "    <tr>\n",
       "      <th>4</th>\n",
       "      <td>Star 4</td>\n",
       "      <td>0.111915</td>\n",
       "      <td>0.000120</td>\n",
       "      <td>1515.780789</td>\n",
       "      <td>5.485191</td>\n",
       "    </tr>\n",
       "  </tbody>\n",
       "</table>\n",
       "</div>"
      ],
      "text/plain": [
       "   target      val1  val1_err         val2  val2_err\n",
       "0  Star 0  0.110329  0.016765    12.363429  0.020624\n",
       "1  Star 1  0.268676  0.001107   495.325137  0.232137\n",
       "2  Star 2  0.187300  0.013023  5021.789709  0.130045\n",
       "3  Star 3  0.230330  0.000140   252.680435  0.109963\n",
       "4  Star 4  0.111915  0.000120  1515.780789  5.485191"
      ]
     },
     "execution_count": 3,
     "metadata": {},
     "output_type": "execute_result"
    }
   ],
   "source": [
    "df_sym = (pd.DataFrame()\n",
    "                .assign(target = [f'Star {i}' for i in range(df_size)])\n",
    "                .assign(val1 = st.loguniform.rvs(0.01, 100, size=df_size))\n",
    "                .assign(val1_err = st.loguniform.rvs(0.0001, 1, size=df_size))\n",
    "                .assign(val2 = st.loguniform.rvs(1, 10000, size=df_size))\n",
    "                .assign(val2_err = st.loguniform.rvs(0.01, 100, size=df_size))\n",
    ")\n",
    "df_sym"
   ]
  },
  {
   "cell_type": "code",
   "execution_count": 4,
   "metadata": {},
   "outputs": [
    {
     "name": "stdout",
     "output_type": "stream",
     "text": [
      "\\begin{tabular}{lcc}\n",
      "{target} & {val1} & {val2} \\\\\n",
      "Star 0 & $0.110\\pm0.017$ & $12.363\\pm0.021$ \\\\\n",
      "Star 1 & $0.2687\\pm0.0011$ & $495.33\\pm0.23$ \\\\\n",
      "Star 2 & $0.187\\pm0.013$ & $5021.79\\pm0.13$ \\\\\n",
      "Star 3 & $0.23033\\pm0.00014$ & $252.68\\pm0.11$ \\\\\n",
      "Star 4 & $0.11191\\pm0.00012$ & $1515.8\\pm5.5$ \\\\\n",
      "\\end{tabular}\n",
      "\n"
     ]
    }
   ],
   "source": [
    "table1 = pd2ltx(df_sym, error='symmetrical', error_suffix='_err', error_significant_figures=2)\n",
    "\n",
    "print(table1)"
   ]
  },
  {
   "attachments": {},
   "cell_type": "markdown",
   "metadata": {},
   "source": [
    "## Asymmetrical errors"
   ]
  },
  {
   "cell_type": "code",
   "execution_count": 5,
   "metadata": {},
   "outputs": [
    {
     "data": {
      "text/html": [
       "<div>\n",
       "<style scoped>\n",
       "    .dataframe tbody tr th:only-of-type {\n",
       "        vertical-align: middle;\n",
       "    }\n",
       "\n",
       "    .dataframe tbody tr th {\n",
       "        vertical-align: top;\n",
       "    }\n",
       "\n",
       "    .dataframe thead th {\n",
       "        text-align: right;\n",
       "    }\n",
       "</style>\n",
       "<table border=\"1\" class=\"dataframe\">\n",
       "  <thead>\n",
       "    <tr style=\"text-align: right;\">\n",
       "      <th></th>\n",
       "      <th>target</th>\n",
       "      <th>val1</th>\n",
       "      <th>val1_errup</th>\n",
       "      <th>val1_errlo</th>\n",
       "      <th>val2</th>\n",
       "      <th>val2_errlo</th>\n",
       "      <th>val2_errup</th>\n",
       "    </tr>\n",
       "  </thead>\n",
       "  <tbody>\n",
       "    <tr>\n",
       "      <th>0</th>\n",
       "      <td>Star 0</td>\n",
       "      <td>3.969028</td>\n",
       "      <td>0.036542</td>\n",
       "      <td>0.007346</td>\n",
       "      <td>25.397702</td>\n",
       "      <td>0.247566</td>\n",
       "      <td>0.034894</td>\n",
       "    </tr>\n",
       "    <tr>\n",
       "      <th>1</th>\n",
       "      <td>Star 1</td>\n",
       "      <td>0.116276</td>\n",
       "      <td>0.003254</td>\n",
       "      <td>0.006189</td>\n",
       "      <td>52.614493</td>\n",
       "      <td>0.092198</td>\n",
       "      <td>0.019286</td>\n",
       "    </tr>\n",
       "    <tr>\n",
       "      <th>2</th>\n",
       "      <td>Star 2</td>\n",
       "      <td>0.024077</td>\n",
       "      <td>0.024016</td>\n",
       "      <td>0.021070</td>\n",
       "      <td>909.311928</td>\n",
       "      <td>0.026851</td>\n",
       "      <td>0.794814</td>\n",
       "    </tr>\n",
       "    <tr>\n",
       "      <th>3</th>\n",
       "      <td>Star 3</td>\n",
       "      <td>1.677212</td>\n",
       "      <td>0.010191</td>\n",
       "      <td>0.032754</td>\n",
       "      <td>4.984025</td>\n",
       "      <td>0.305274</td>\n",
       "      <td>0.042206</td>\n",
       "    </tr>\n",
       "    <tr>\n",
       "      <th>4</th>\n",
       "      <td>Star 4</td>\n",
       "      <td>0.067346</td>\n",
       "      <td>0.003459</td>\n",
       "      <td>0.009440</td>\n",
       "      <td>1835.295660</td>\n",
       "      <td>0.186732</td>\n",
       "      <td>0.141130</td>\n",
       "    </tr>\n",
       "  </tbody>\n",
       "</table>\n",
       "</div>"
      ],
      "text/plain": [
       "   target      val1  val1_errup  val1_errlo         val2  val2_errlo  \\\n",
       "0  Star 0  3.969028    0.036542    0.007346    25.397702    0.247566   \n",
       "1  Star 1  0.116276    0.003254    0.006189    52.614493    0.092198   \n",
       "2  Star 2  0.024077    0.024016    0.021070   909.311928    0.026851   \n",
       "3  Star 3  1.677212    0.010191    0.032754     4.984025    0.305274   \n",
       "4  Star 4  0.067346    0.003459    0.009440  1835.295660    0.186732   \n",
       "\n",
       "   val2_errup  \n",
       "0    0.034894  \n",
       "1    0.019286  \n",
       "2    0.794814  \n",
       "3    0.042206  \n",
       "4    0.141130  "
      ]
     },
     "execution_count": 5,
     "metadata": {},
     "output_type": "execute_result"
    }
   ],
   "source": [
    "df_asym = (pd.DataFrame()\n",
    "                .assign(target = [f'Star {i}' for i in range(df_size)])\n",
    "                .assign(val1 = st.loguniform.rvs(0.01, 100, size=df_size))\n",
    "                .assign(val1_errup = st.loguniform.rvs(0.001, 0.1, size=df_size))\n",
    "                .assign(val1_errlo = st.loguniform.rvs(0.001, 0.1, size=df_size))\n",
    "                .assign(val2 = st.loguniform.rvs(1, 10000, size=df_size))\n",
    "                .assign(val2_errlo = st.loguniform.rvs(0.01, 1, size=df_size))\n",
    "                .assign(val2_errup = st.loguniform.rvs(0.01, 1, size=df_size))\n",
    ")\n",
    "df_asym"
   ]
  },
  {
   "cell_type": "code",
   "execution_count": 6,
   "metadata": {},
   "outputs": [
    {
     "name": "stdout",
     "output_type": "stream",
     "text": [
      "\\begin{tabular}{lcc}\n",
      "{target} & {val1} & {val2} \\\\\n",
      "Star 0 & $3.9690^{+0.0365}_{-0.0073}$ & $25.398^{+0.035}_{-0.248}$ \\\\\n",
      "Star 1 & $0.1163^{+0.0033}_{-0.0062}$ & $52.614^{+0.019}_{-0.092}$ \\\\\n",
      "Star 2 & $0.024^{+0.024}_{-0.021}$ & $909.312^{+0.795}_{-0.027}$ \\\\\n",
      "Star 3 & $1.677^{+0.010}_{-0.033}$ & $4.984^{+0.042}_{-0.305}$ \\\\\n",
      "Star 4 & $0.0673^{+0.0035}_{-0.0094}$ & $1835.30^{+0.14}_{-0.19}$ \\\\\n",
      "\\end{tabular}\n",
      "\n"
     ]
    }
   ],
   "source": [
    "table2 = pd2ltx(df_asym, \n",
    "                error='asymmetrical', \n",
    "                error_suffix=['_errup', '_errlo'], \n",
    "                error_significant_figures=2)\n",
    "print(table2)"
   ]
  },
  {
   "attachments": {},
   "cell_type": "markdown",
   "metadata": {},
   "source": [
    "### It also works even if the error columns are in different order"
   ]
  },
  {
   "cell_type": "code",
   "execution_count": 7,
   "metadata": {},
   "outputs": [
    {
     "data": {
      "text/html": [
       "<div>\n",
       "<style scoped>\n",
       "    .dataframe tbody tr th:only-of-type {\n",
       "        vertical-align: middle;\n",
       "    }\n",
       "\n",
       "    .dataframe tbody tr th {\n",
       "        vertical-align: top;\n",
       "    }\n",
       "\n",
       "    .dataframe thead th {\n",
       "        text-align: right;\n",
       "    }\n",
       "</style>\n",
       "<table border=\"1\" class=\"dataframe\">\n",
       "  <thead>\n",
       "    <tr style=\"text-align: right;\">\n",
       "      <th></th>\n",
       "      <th>val2_errlo</th>\n",
       "      <th>target</th>\n",
       "      <th>val1_errlo</th>\n",
       "      <th>val1</th>\n",
       "      <th>val1_errup</th>\n",
       "      <th>val2_errup</th>\n",
       "      <th>val2</th>\n",
       "    </tr>\n",
       "  </thead>\n",
       "  <tbody>\n",
       "    <tr>\n",
       "      <th>0</th>\n",
       "      <td>0.331278</td>\n",
       "      <td>Star 0</td>\n",
       "      <td>0.001111</td>\n",
       "      <td>0.163051</td>\n",
       "      <td>0.001769</td>\n",
       "      <td>0.814721</td>\n",
       "      <td>4018.317288</td>\n",
       "    </tr>\n",
       "    <tr>\n",
       "      <th>1</th>\n",
       "      <td>0.013138</td>\n",
       "      <td>Star 1</td>\n",
       "      <td>0.003321</td>\n",
       "      <td>0.029952</td>\n",
       "      <td>0.013392</td>\n",
       "      <td>0.634666</td>\n",
       "      <td>1896.273160</td>\n",
       "    </tr>\n",
       "    <tr>\n",
       "      <th>2</th>\n",
       "      <td>0.742231</td>\n",
       "      <td>Star 2</td>\n",
       "      <td>0.030580</td>\n",
       "      <td>16.001661</td>\n",
       "      <td>0.002981</td>\n",
       "      <td>0.087243</td>\n",
       "      <td>3.869457</td>\n",
       "    </tr>\n",
       "    <tr>\n",
       "      <th>3</th>\n",
       "      <td>0.652198</td>\n",
       "      <td>Star 3</td>\n",
       "      <td>0.010317</td>\n",
       "      <td>22.624135</td>\n",
       "      <td>0.003506</td>\n",
       "      <td>0.038080</td>\n",
       "      <td>1116.429470</td>\n",
       "    </tr>\n",
       "    <tr>\n",
       "      <th>4</th>\n",
       "      <td>0.164201</td>\n",
       "      <td>Star 4</td>\n",
       "      <td>0.088977</td>\n",
       "      <td>5.741738</td>\n",
       "      <td>0.007664</td>\n",
       "      <td>0.021124</td>\n",
       "      <td>4608.322260</td>\n",
       "    </tr>\n",
       "  </tbody>\n",
       "</table>\n",
       "</div>"
      ],
      "text/plain": [
       "   val2_errlo  target  val1_errlo       val1  val1_errup  val2_errup  \\\n",
       "0    0.331278  Star 0    0.001111   0.163051    0.001769    0.814721   \n",
       "1    0.013138  Star 1    0.003321   0.029952    0.013392    0.634666   \n",
       "2    0.742231  Star 2    0.030580  16.001661    0.002981    0.087243   \n",
       "3    0.652198  Star 3    0.010317  22.624135    0.003506    0.038080   \n",
       "4    0.164201  Star 4    0.088977   5.741738    0.007664    0.021124   \n",
       "\n",
       "          val2  \n",
       "0  4018.317288  \n",
       "1  1896.273160  \n",
       "2     3.869457  \n",
       "3  1116.429470  \n",
       "4  4608.322260  "
      ]
     },
     "execution_count": 7,
     "metadata": {},
     "output_type": "execute_result"
    }
   ],
   "source": [
    "df_asym2 = (pd.DataFrame()\n",
    "                .assign(val2_errlo = st.loguniform.rvs(0.01, 1, size=df_size))\n",
    "                .assign(target = [f'Star {i}' for i in range(df_size)])\n",
    "                .assign(val1_errlo = st.loguniform.rvs(0.001, 0.1, size=df_size))\n",
    "                .assign(val1 = st.loguniform.rvs(0.01, 100, size=df_size))\n",
    "                .assign(val1_errup = st.loguniform.rvs(0.001, 0.1, size=df_size))\n",
    "                .assign(val2_errup = st.loguniform.rvs(0.01, 1, size=df_size))\n",
    "                .assign(val2 = st.loguniform.rvs(1, 10000, size=df_size))\n",
    ")\n",
    "df_asym2"
   ]
  },
  {
   "cell_type": "code",
   "execution_count": 8,
   "metadata": {},
   "outputs": [
    {
     "name": "stdout",
     "output_type": "stream",
     "text": [
      "\\begin{table}\n",
      "\\caption{My Table}\n",
      "\\begin{tabular}{lcc}\n",
      "{target} & {val1} & {val2} \\\\\n",
      "Star 0 & $0.1631^{+0.0018}_{-0.0011}$ & $4018.32^{+0.81}_{-0.33}$ \\\\\n",
      "Star 1 & $0.0300^{+0.0134}_{-0.0033}$ & $1896.273^{+0.635}_{-0.013}$ \\\\\n",
      "Star 2 & $16.0017^{+0.0030}_{-0.0306}$ & $3.869^{+0.087}_{-0.742}$ \\\\\n",
      "Star 3 & $22.6241^{+0.0035}_{-0.0103}$ & $1116.429^{+0.038}_{-0.652}$ \\\\\n",
      "Star 4 & $5.7417^{+0.0077}_{-0.0890}$ & $4608.322^{+0.021}_{-0.164}$ \\\\\n",
      "\\end{tabular}\n",
      "\\end{table}\n",
      "\n"
     ]
    }
   ],
   "source": [
    "table3 = pd2ltx(df_asym2, \n",
    "                error='asymmetrical', \n",
    "                error_suffix=['_errup', '_errlo'], \n",
    "                error_significant_figures=2, \n",
    "                caption='My Table' # Example of adding a caption\n",
    "                )\n",
    "\n",
    "print(table3)"
   ]
  },
  {
   "cell_type": "code",
   "execution_count": null,
   "metadata": {},
   "outputs": [],
   "source": []
  }
 ],
 "metadata": {
  "kernelspec": {
   "display_name": "Python 3.8.8 ('base')",
   "language": "python",
   "name": "python3"
  },
  "language_info": {
   "codemirror_mode": {
    "name": "ipython",
    "version": 3
   },
   "file_extension": ".py",
   "mimetype": "text/x-python",
   "name": "python",
   "nbconvert_exporter": "python",
   "pygments_lexer": "ipython3",
   "version": "3.8.8"
  },
  "orig_nbformat": 4,
  "vscode": {
   "interpreter": {
    "hash": "9cb3414fc703dd8cc982b544269b5fbfe36cb584fb7b6ad5d526a12d9be0b908"
   }
  }
 },
 "nbformat": 4,
 "nbformat_minor": 2
}
