{
 "cells": [
  {
   "attachments": {},
   "cell_type": "markdown",
   "metadata": {},
   "source": [
    "# Imports"
   ]
  },
  {
   "cell_type": "code",
   "execution_count": 6,
   "metadata": {},
   "outputs": [],
   "source": [
    "from pd2ltx import pd2ltx"
   ]
  },
  {
   "cell_type": "code",
   "execution_count": 2,
   "metadata": {},
   "outputs": [],
   "source": [
    "import pandas as pd\n",
    "import numpy as np\n",
    "import scipy.stats as st\n",
    "import sys\n",
    "# sys.path.append(\"..\")\n",
    "# from pd2ltx import pd2ltx"
   ]
  },
  {
   "attachments": {},
   "cell_type": "markdown",
   "metadata": {},
   "source": [
    "# Make example tables"
   ]
  },
  {
   "cell_type": "code",
   "execution_count": 3,
   "metadata": {},
   "outputs": [],
   "source": [
    "df_size = 5"
   ]
  },
  {
   "attachments": {},
   "cell_type": "markdown",
   "metadata": {},
   "source": [
    "## Symmetrical errors"
   ]
  },
  {
   "cell_type": "code",
   "execution_count": 4,
   "metadata": {},
   "outputs": [
    {
     "data": {
      "text/html": [
       "<div>\n",
       "<style scoped>\n",
       "    .dataframe tbody tr th:only-of-type {\n",
       "        vertical-align: middle;\n",
       "    }\n",
       "\n",
       "    .dataframe tbody tr th {\n",
       "        vertical-align: top;\n",
       "    }\n",
       "\n",
       "    .dataframe thead th {\n",
       "        text-align: right;\n",
       "    }\n",
       "</style>\n",
       "<table border=\"1\" class=\"dataframe\">\n",
       "  <thead>\n",
       "    <tr style=\"text-align: right;\">\n",
       "      <th></th>\n",
       "      <th>target</th>\n",
       "      <th>val1</th>\n",
       "      <th>val1_err</th>\n",
       "      <th>val2</th>\n",
       "      <th>val2_err</th>\n",
       "    </tr>\n",
       "  </thead>\n",
       "  <tbody>\n",
       "    <tr>\n",
       "      <th>0</th>\n",
       "      <td>Star 0</td>\n",
       "      <td>15.724261</td>\n",
       "      <td>0.245219</td>\n",
       "      <td>342.472205</td>\n",
       "      <td>0.063838</td>\n",
       "    </tr>\n",
       "    <tr>\n",
       "      <th>1</th>\n",
       "      <td>Star 1</td>\n",
       "      <td>2.355528</td>\n",
       "      <td>0.021731</td>\n",
       "      <td>10.549974</td>\n",
       "      <td>4.601729</td>\n",
       "    </tr>\n",
       "    <tr>\n",
       "      <th>2</th>\n",
       "      <td>Star 2</td>\n",
       "      <td>0.321680</td>\n",
       "      <td>0.241344</td>\n",
       "      <td>2207.276845</td>\n",
       "      <td>19.662518</td>\n",
       "    </tr>\n",
       "    <tr>\n",
       "      <th>3</th>\n",
       "      <td>Star 3</td>\n",
       "      <td>2.327851</td>\n",
       "      <td>0.000568</td>\n",
       "      <td>339.304422</td>\n",
       "      <td>56.315132</td>\n",
       "    </tr>\n",
       "    <tr>\n",
       "      <th>4</th>\n",
       "      <td>Star 4</td>\n",
       "      <td>2.370683</td>\n",
       "      <td>0.740910</td>\n",
       "      <td>3646.429641</td>\n",
       "      <td>0.050659</td>\n",
       "    </tr>\n",
       "  </tbody>\n",
       "</table>\n",
       "</div>"
      ],
      "text/plain": [
       "   target       val1  val1_err         val2   val2_err\n",
       "0  Star 0  15.724261  0.245219   342.472205   0.063838\n",
       "1  Star 1   2.355528  0.021731    10.549974   4.601729\n",
       "2  Star 2   0.321680  0.241344  2207.276845  19.662518\n",
       "3  Star 3   2.327851  0.000568   339.304422  56.315132\n",
       "4  Star 4   2.370683  0.740910  3646.429641   0.050659"
      ]
     },
     "execution_count": 4,
     "metadata": {},
     "output_type": "execute_result"
    }
   ],
   "source": [
    "df_sym = (pd.DataFrame()\n",
    "                .assign(target = [f'Star {i}' for i in range(df_size)])\n",
    "                .assign(val1 = st.loguniform.rvs(0.01, 100, size=df_size))\n",
    "                .assign(val1_err = st.loguniform.rvs(0.0001, 1, size=df_size))\n",
    "                .assign(val2 = st.loguniform.rvs(1, 10000, size=df_size))\n",
    "                .assign(val2_err = st.loguniform.rvs(0.01, 100, size=df_size))\n",
    ")\n",
    "df_sym"
   ]
  },
  {
   "cell_type": "code",
   "execution_count": 7,
   "metadata": {},
   "outputs": [
    {
     "ename": "AttributeError",
     "evalue": "'Styler' object has no attribute 'hide'",
     "output_type": "error",
     "traceback": [
      "\u001b[0;31m---------------------------------------------------------------------------\u001b[0m",
      "\u001b[0;31mAttributeError\u001b[0m                            Traceback (most recent call last)",
      "\u001b[0;32m/tmp/ipykernel_9290/3106443890.py\u001b[0m in \u001b[0;36m<module>\u001b[0;34m\u001b[0m\n\u001b[0;32m----> 1\u001b[0;31m \u001b[0mtable1\u001b[0m \u001b[0;34m=\u001b[0m \u001b[0mpd2ltx\u001b[0m\u001b[0;34m(\u001b[0m\u001b[0mdf_sym\u001b[0m\u001b[0;34m,\u001b[0m \u001b[0merror\u001b[0m\u001b[0;34m=\u001b[0m\u001b[0;34m'symmetrical'\u001b[0m\u001b[0;34m,\u001b[0m \u001b[0merror_suffix\u001b[0m\u001b[0;34m=\u001b[0m\u001b[0;34m'_err'\u001b[0m\u001b[0;34m,\u001b[0m \u001b[0merror_significant_figures\u001b[0m\u001b[0;34m=\u001b[0m\u001b[0;36m2\u001b[0m\u001b[0;34m)\u001b[0m\u001b[0;34m\u001b[0m\u001b[0;34m\u001b[0m\u001b[0m\n\u001b[0m\u001b[1;32m      2\u001b[0m \u001b[0;34m\u001b[0m\u001b[0m\n\u001b[1;32m      3\u001b[0m \u001b[0mprint\u001b[0m\u001b[0;34m(\u001b[0m\u001b[0mtable1\u001b[0m\u001b[0;34m)\u001b[0m\u001b[0;34m\u001b[0m\u001b[0;34m\u001b[0m\u001b[0m\n",
      "\u001b[0;32m~/miniconda3/envs/astrom/lib/python3.8/site-packages/pd2ltx/__init__.py\u001b[0m in \u001b[0;36mpd2ltx\u001b[0;34m(df, sort_column, sort_ascending, error, error_suffix, error_significant_figures, **kwargs)\u001b[0m\n\u001b[1;32m    194\u001b[0m     \u001b[0mcolumn_format\u001b[0m \u001b[0;34m=\u001b[0m \u001b[0;34m\"\"\u001b[0m\u001b[0;34m.\u001b[0m\u001b[0mjoin\u001b[0m\u001b[0;34m(\u001b[0m\u001b[0mcol_arr\u001b[0m\u001b[0;34m)\u001b[0m\u001b[0;34m\u001b[0m\u001b[0;34m\u001b[0m\u001b[0m\n\u001b[1;32m    195\u001b[0m \u001b[0;34m\u001b[0m\u001b[0m\n\u001b[0;32m--> 196\u001b[0;31m     latex_table = ltdf.style.hide(axis=\"index\").to_latex(\n\u001b[0m\u001b[1;32m    197\u001b[0m         \u001b[0msiunitx\u001b[0m\u001b[0;34m=\u001b[0m\u001b[0;32mTrue\u001b[0m\u001b[0;34m,\u001b[0m \u001b[0mcolumn_format\u001b[0m\u001b[0;34m=\u001b[0m\u001b[0mcolumn_format\u001b[0m\u001b[0;34m,\u001b[0m \u001b[0;34m**\u001b[0m\u001b[0mkwargs\u001b[0m\u001b[0;34m\u001b[0m\u001b[0;34m\u001b[0m\u001b[0m\n\u001b[1;32m    198\u001b[0m     )\n",
      "\u001b[0;31mAttributeError\u001b[0m: 'Styler' object has no attribute 'hide'"
     ]
    }
   ],
   "source": [
    "table1 = pd2ltx(df_sym, error='symmetrical', error_suffix='_err', error_significant_figures=2)\n",
    "\n",
    "print(table1)"
   ]
  },
  {
   "attachments": {},
   "cell_type": "markdown",
   "metadata": {},
   "source": [
    "## Asymmetrical errors"
   ]
  },
  {
   "cell_type": "code",
   "execution_count": 8,
   "metadata": {},
   "outputs": [
    {
     "data": {
      "text/html": [
       "<div>\n",
       "<style scoped>\n",
       "    .dataframe tbody tr th:only-of-type {\n",
       "        vertical-align: middle;\n",
       "    }\n",
       "\n",
       "    .dataframe tbody tr th {\n",
       "        vertical-align: top;\n",
       "    }\n",
       "\n",
       "    .dataframe thead th {\n",
       "        text-align: right;\n",
       "    }\n",
       "</style>\n",
       "<table border=\"1\" class=\"dataframe\">\n",
       "  <thead>\n",
       "    <tr style=\"text-align: right;\">\n",
       "      <th></th>\n",
       "      <th>target</th>\n",
       "      <th>val1</th>\n",
       "      <th>val1_errup</th>\n",
       "      <th>val1_errlo</th>\n",
       "      <th>val2</th>\n",
       "      <th>val2_errlo</th>\n",
       "      <th>val2_errup</th>\n",
       "    </tr>\n",
       "  </thead>\n",
       "  <tbody>\n",
       "    <tr>\n",
       "      <th>0</th>\n",
       "      <td>Star 0</td>\n",
       "      <td>0.107646</td>\n",
       "      <td>0.012681</td>\n",
       "      <td>0.056747</td>\n",
       "      <td>8506.454080</td>\n",
       "      <td>0.020437</td>\n",
       "      <td>0.124084</td>\n",
       "    </tr>\n",
       "    <tr>\n",
       "      <th>1</th>\n",
       "      <td>Star 1</td>\n",
       "      <td>0.106070</td>\n",
       "      <td>0.007368</td>\n",
       "      <td>0.002799</td>\n",
       "      <td>5.145879</td>\n",
       "      <td>0.030967</td>\n",
       "      <td>0.011434</td>\n",
       "    </tr>\n",
       "    <tr>\n",
       "      <th>2</th>\n",
       "      <td>Star 2</td>\n",
       "      <td>0.314652</td>\n",
       "      <td>0.074264</td>\n",
       "      <td>0.002313</td>\n",
       "      <td>1.197362</td>\n",
       "      <td>0.348655</td>\n",
       "      <td>0.199520</td>\n",
       "    </tr>\n",
       "    <tr>\n",
       "      <th>3</th>\n",
       "      <td>Star 3</td>\n",
       "      <td>0.208460</td>\n",
       "      <td>0.007072</td>\n",
       "      <td>0.005822</td>\n",
       "      <td>23.146405</td>\n",
       "      <td>0.183669</td>\n",
       "      <td>0.029258</td>\n",
       "    </tr>\n",
       "    <tr>\n",
       "      <th>4</th>\n",
       "      <td>Star 4</td>\n",
       "      <td>0.078255</td>\n",
       "      <td>0.008342</td>\n",
       "      <td>0.017332</td>\n",
       "      <td>1.113026</td>\n",
       "      <td>0.077780</td>\n",
       "      <td>0.310592</td>\n",
       "    </tr>\n",
       "  </tbody>\n",
       "</table>\n",
       "</div>"
      ],
      "text/plain": [
       "   target      val1  val1_errup  val1_errlo         val2  val2_errlo  \\\n",
       "0  Star 0  0.107646    0.012681    0.056747  8506.454080    0.020437   \n",
       "1  Star 1  0.106070    0.007368    0.002799     5.145879    0.030967   \n",
       "2  Star 2  0.314652    0.074264    0.002313     1.197362    0.348655   \n",
       "3  Star 3  0.208460    0.007072    0.005822    23.146405    0.183669   \n",
       "4  Star 4  0.078255    0.008342    0.017332     1.113026    0.077780   \n",
       "\n",
       "   val2_errup  \n",
       "0    0.124084  \n",
       "1    0.011434  \n",
       "2    0.199520  \n",
       "3    0.029258  \n",
       "4    0.310592  "
      ]
     },
     "execution_count": 8,
     "metadata": {},
     "output_type": "execute_result"
    }
   ],
   "source": [
    "df_asym = (pd.DataFrame()\n",
    "                .assign(target = [f'Star {i}' for i in range(df_size)])\n",
    "                .assign(val1 = st.loguniform.rvs(0.01, 100, size=df_size))\n",
    "                .assign(val1_errup = st.loguniform.rvs(0.001, 0.1, size=df_size))\n",
    "                .assign(val1_errlo = st.loguniform.rvs(0.001, 0.1, size=df_size))\n",
    "                .assign(val2 = st.loguniform.rvs(1, 10000, size=df_size))\n",
    "                .assign(val2_errlo = st.loguniform.rvs(0.01, 1, size=df_size))\n",
    "                .assign(val2_errup = st.loguniform.rvs(0.01, 1, size=df_size))\n",
    ")\n",
    "df_asym"
   ]
  },
  {
   "cell_type": "code",
   "execution_count": 9,
   "metadata": {},
   "outputs": [
    {
     "ename": "AttributeError",
     "evalue": "'Styler' object has no attribute 'hide'",
     "output_type": "error",
     "traceback": [
      "\u001b[0;31m---------------------------------------------------------------------------\u001b[0m",
      "\u001b[0;31mAttributeError\u001b[0m                            Traceback (most recent call last)",
      "\u001b[0;32m/tmp/ipykernel_9290/2669379520.py\u001b[0m in \u001b[0;36m<module>\u001b[0;34m\u001b[0m\n\u001b[0;32m----> 1\u001b[0;31m table2 = pd2ltx(df_asym, \n\u001b[0m\u001b[1;32m      2\u001b[0m                 \u001b[0merror\u001b[0m\u001b[0;34m=\u001b[0m\u001b[0;34m'asymmetrical'\u001b[0m\u001b[0;34m,\u001b[0m\u001b[0;34m\u001b[0m\u001b[0;34m\u001b[0m\u001b[0m\n\u001b[1;32m      3\u001b[0m                 \u001b[0merror_suffix\u001b[0m\u001b[0;34m=\u001b[0m\u001b[0;34m[\u001b[0m\u001b[0;34m'_errup'\u001b[0m\u001b[0;34m,\u001b[0m \u001b[0;34m'_errlo'\u001b[0m\u001b[0;34m]\u001b[0m\u001b[0;34m,\u001b[0m\u001b[0;34m\u001b[0m\u001b[0;34m\u001b[0m\u001b[0m\n\u001b[1;32m      4\u001b[0m                 error_significant_figures=2)\n\u001b[1;32m      5\u001b[0m \u001b[0mprint\u001b[0m\u001b[0;34m(\u001b[0m\u001b[0mtable2\u001b[0m\u001b[0;34m)\u001b[0m\u001b[0;34m\u001b[0m\u001b[0;34m\u001b[0m\u001b[0m\n",
      "\u001b[0;32m~/miniconda3/envs/astrom/lib/python3.8/site-packages/pd2ltx/__init__.py\u001b[0m in \u001b[0;36mpd2ltx\u001b[0;34m(df, sort_column, sort_ascending, error, error_suffix, error_significant_figures, **kwargs)\u001b[0m\n\u001b[1;32m    194\u001b[0m     \u001b[0mcolumn_format\u001b[0m \u001b[0;34m=\u001b[0m \u001b[0;34m\"\"\u001b[0m\u001b[0;34m.\u001b[0m\u001b[0mjoin\u001b[0m\u001b[0;34m(\u001b[0m\u001b[0mcol_arr\u001b[0m\u001b[0;34m)\u001b[0m\u001b[0;34m\u001b[0m\u001b[0;34m\u001b[0m\u001b[0m\n\u001b[1;32m    195\u001b[0m \u001b[0;34m\u001b[0m\u001b[0m\n\u001b[0;32m--> 196\u001b[0;31m     latex_table = ltdf.style.hide(axis=\"index\").to_latex(\n\u001b[0m\u001b[1;32m    197\u001b[0m         \u001b[0msiunitx\u001b[0m\u001b[0;34m=\u001b[0m\u001b[0;32mTrue\u001b[0m\u001b[0;34m,\u001b[0m \u001b[0mcolumn_format\u001b[0m\u001b[0;34m=\u001b[0m\u001b[0mcolumn_format\u001b[0m\u001b[0;34m,\u001b[0m \u001b[0;34m**\u001b[0m\u001b[0mkwargs\u001b[0m\u001b[0;34m\u001b[0m\u001b[0;34m\u001b[0m\u001b[0m\n\u001b[1;32m    198\u001b[0m     )\n",
      "\u001b[0;31mAttributeError\u001b[0m: 'Styler' object has no attribute 'hide'"
     ]
    }
   ],
   "source": [
    "table2 = pd2ltx(df_asym, \n",
    "                error='asymmetrical', \n",
    "                error_suffix=['_errup', '_errlo'], \n",
    "                error_significant_figures=2)\n",
    "print(table2)"
   ]
  },
  {
   "attachments": {},
   "cell_type": "markdown",
   "metadata": {},
   "source": [
    "### It also works even if the error columns are in different order"
   ]
  },
  {
   "cell_type": "code",
   "execution_count": 7,
   "metadata": {},
   "outputs": [
    {
     "data": {
      "text/html": [
       "<div>\n",
       "<style scoped>\n",
       "    .dataframe tbody tr th:only-of-type {\n",
       "        vertical-align: middle;\n",
       "    }\n",
       "\n",
       "    .dataframe tbody tr th {\n",
       "        vertical-align: top;\n",
       "    }\n",
       "\n",
       "    .dataframe thead th {\n",
       "        text-align: right;\n",
       "    }\n",
       "</style>\n",
       "<table border=\"1\" class=\"dataframe\">\n",
       "  <thead>\n",
       "    <tr style=\"text-align: right;\">\n",
       "      <th></th>\n",
       "      <th>val2_errlo</th>\n",
       "      <th>target</th>\n",
       "      <th>val1_errlo</th>\n",
       "      <th>val1</th>\n",
       "      <th>val1_errup</th>\n",
       "      <th>val2_errup</th>\n",
       "      <th>val2</th>\n",
       "    </tr>\n",
       "  </thead>\n",
       "  <tbody>\n",
       "    <tr>\n",
       "      <th>0</th>\n",
       "      <td>0.331278</td>\n",
       "      <td>Star 0</td>\n",
       "      <td>0.001111</td>\n",
       "      <td>0.163051</td>\n",
       "      <td>0.001769</td>\n",
       "      <td>0.814721</td>\n",
       "      <td>4018.317288</td>\n",
       "    </tr>\n",
       "    <tr>\n",
       "      <th>1</th>\n",
       "      <td>0.013138</td>\n",
       "      <td>Star 1</td>\n",
       "      <td>0.003321</td>\n",
       "      <td>0.029952</td>\n",
       "      <td>0.013392</td>\n",
       "      <td>0.634666</td>\n",
       "      <td>1896.273160</td>\n",
       "    </tr>\n",
       "    <tr>\n",
       "      <th>2</th>\n",
       "      <td>0.742231</td>\n",
       "      <td>Star 2</td>\n",
       "      <td>0.030580</td>\n",
       "      <td>16.001661</td>\n",
       "      <td>0.002981</td>\n",
       "      <td>0.087243</td>\n",
       "      <td>3.869457</td>\n",
       "    </tr>\n",
       "    <tr>\n",
       "      <th>3</th>\n",
       "      <td>0.652198</td>\n",
       "      <td>Star 3</td>\n",
       "      <td>0.010317</td>\n",
       "      <td>22.624135</td>\n",
       "      <td>0.003506</td>\n",
       "      <td>0.038080</td>\n",
       "      <td>1116.429470</td>\n",
       "    </tr>\n",
       "    <tr>\n",
       "      <th>4</th>\n",
       "      <td>0.164201</td>\n",
       "      <td>Star 4</td>\n",
       "      <td>0.088977</td>\n",
       "      <td>5.741738</td>\n",
       "      <td>0.007664</td>\n",
       "      <td>0.021124</td>\n",
       "      <td>4608.322260</td>\n",
       "    </tr>\n",
       "  </tbody>\n",
       "</table>\n",
       "</div>"
      ],
      "text/plain": [
       "   val2_errlo  target  val1_errlo       val1  val1_errup  val2_errup  \\\n",
       "0    0.331278  Star 0    0.001111   0.163051    0.001769    0.814721   \n",
       "1    0.013138  Star 1    0.003321   0.029952    0.013392    0.634666   \n",
       "2    0.742231  Star 2    0.030580  16.001661    0.002981    0.087243   \n",
       "3    0.652198  Star 3    0.010317  22.624135    0.003506    0.038080   \n",
       "4    0.164201  Star 4    0.088977   5.741738    0.007664    0.021124   \n",
       "\n",
       "          val2  \n",
       "0  4018.317288  \n",
       "1  1896.273160  \n",
       "2     3.869457  \n",
       "3  1116.429470  \n",
       "4  4608.322260  "
      ]
     },
     "execution_count": 7,
     "metadata": {},
     "output_type": "execute_result"
    }
   ],
   "source": [
    "df_asym2 = (pd.DataFrame()\n",
    "                .assign(val2_errlo = st.loguniform.rvs(0.01, 1, size=df_size))\n",
    "                .assign(target = [f'Star {i}' for i in range(df_size)])\n",
    "                .assign(val1_errlo = st.loguniform.rvs(0.001, 0.1, size=df_size))\n",
    "                .assign(val1 = st.loguniform.rvs(0.01, 100, size=df_size))\n",
    "                .assign(val1_errup = st.loguniform.rvs(0.001, 0.1, size=df_size))\n",
    "                .assign(val2_errup = st.loguniform.rvs(0.01, 1, size=df_size))\n",
    "                .assign(val2 = st.loguniform.rvs(1, 10000, size=df_size))\n",
    ")\n",
    "df_asym2"
   ]
  },
  {
   "cell_type": "code",
   "execution_count": 8,
   "metadata": {},
   "outputs": [
    {
     "name": "stdout",
     "output_type": "stream",
     "text": [
      "\\begin{table}\n",
      "\\caption{My Table}\n",
      "\\begin{tabular}{lcc}\n",
      "{target} & {val1} & {val2} \\\\\n",
      "Star 0 & $0.1631^{+0.0018}_{-0.0011}$ & $4018.32^{+0.81}_{-0.33}$ \\\\\n",
      "Star 1 & $0.0300^{+0.0134}_{-0.0033}$ & $1896.273^{+0.635}_{-0.013}$ \\\\\n",
      "Star 2 & $16.0017^{+0.0030}_{-0.0306}$ & $3.869^{+0.087}_{-0.742}$ \\\\\n",
      "Star 3 & $22.6241^{+0.0035}_{-0.0103}$ & $1116.429^{+0.038}_{-0.652}$ \\\\\n",
      "Star 4 & $5.7417^{+0.0077}_{-0.0890}$ & $4608.322^{+0.021}_{-0.164}$ \\\\\n",
      "\\end{tabular}\n",
      "\\end{table}\n",
      "\n"
     ]
    }
   ],
   "source": [
    "table3 = pd2ltx(df_asym2, \n",
    "                error='asymmetrical', \n",
    "                error_suffix=['_errup', '_errlo'], \n",
    "                error_significant_figures=2, \n",
    "                caption='My Table' # Example of adding a caption\n",
    "                )\n",
    "\n",
    "print(table3)"
   ]
  },
  {
   "cell_type": "code",
   "execution_count": null,
   "metadata": {},
   "outputs": [],
   "source": []
  }
 ],
 "metadata": {
  "kernelspec": {
   "display_name": "Python 3.8.8 ('base')",
   "language": "python",
   "name": "python3"
  },
  "language_info": {
   "codemirror_mode": {
    "name": "ipython",
    "version": 3
   },
   "file_extension": ".py",
   "mimetype": "text/x-python",
   "name": "python",
   "nbconvert_exporter": "python",
   "pygments_lexer": "ipython3",
   "version": "3.8.12"
  },
  "orig_nbformat": 4,
  "vscode": {
   "interpreter": {
    "hash": "9cb3414fc703dd8cc982b544269b5fbfe36cb584fb7b6ad5d526a12d9be0b908"
   }
  }
 },
 "nbformat": 4,
 "nbformat_minor": 2
}
